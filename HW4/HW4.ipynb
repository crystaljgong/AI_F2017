{
 "cells": [
  {
   "cell_type": "code",
   "execution_count": 356,
   "metadata": {
    "collapsed": true
   },
   "outputs": [],
   "source": [
    "import random\n",
    "import json\n",
    "\n",
    "with open(\"training.json\", encoding='utf-8') as ins:\n",
    "    array = []\n",
    "    for line in ins:\n",
    "        array.append(line)\n",
    "\n",
    "#shuffle array in place\n",
    "random.shuffle(array)"
   ]
  },
  {
   "cell_type": "code",
   "execution_count": 357,
   "metadata": {
    "collapsed": true
   },
   "outputs": [],
   "source": [
    "def count_num_ingredients(dataset):\n",
    "    count = 0\n",
    "    for elem in dataset:\n",
    "        current = json.loads(elem)\n",
    "        count += len(current['ingredients'])\n",
    "    return count\n"
   ]
  },
  {
   "cell_type": "code",
   "execution_count": 358,
   "metadata": {},
   "outputs": [],
   "source": [
    "def predict_cuisine(ingredients): \n",
    "    #calculate cuisine given ingredients\n",
    "    import heapq\n",
    "\n",
    "    cuis_preds = []\n",
    "\n",
    "    for c in cuisine_probs:\n",
    "        p_cuisine = cuisine_probs[c] #init probability that these ingredients = our cuisine of interest\n",
    "        #print(\"cuisine is {}\".format(c))\n",
    "        for ing in ingredients:\n",
    "            #print(\"ingredients is {}\".format(ingredients))\n",
    "            if ingredient_given_cuisine.get((c,ing)) is None:\n",
    "                ##PERHAPS DO LAPLACE SMOOTHING HERE INSTEAD\n",
    "                #https://stats.stackexchange.com/questions/108797/in-naive-bayes-why-bother-with-laplacian-smoothing-when-we-have-unknown-words-i\n",
    "                p_cuisine *= 0.00000000001 #a hacky way to do laplace smoothing\n",
    "                #print(\"{} given {} not there\".format(c, ing))\n",
    "            else:\n",
    "                #print(\"{} given {} there\".format(c, ing))\n",
    "                p_cuisine *= math.log(ingredient_given_cuisine.get((c,ing))) #use log numbers don't get too small\n",
    "        heapq.heappush(cuis_preds, (p_cuisine*-100000, c))\n",
    "    #print(\"\\n\")\n",
    "    #print(cuis_preds)\n",
    "    return cuis_preds[0][1]\n"
   ]
  },
  {
   "cell_type": "code",
   "execution_count": 359,
   "metadata": {},
   "outputs": [],
   "source": [
    "def get_accuracy(validation):\n",
    "\n",
    "    total = len(validation)\n",
    "    incorrect = 0\n",
    "    correct = 0\n",
    "    for item in validation:\n",
    "        current = json.loads(item)\n",
    "        prediction = predict_cuisine(current['ingredients'])\n",
    "        if prediction != current['cuisine']:\n",
    "            incorrect += 1\n",
    "            #print(current['ingredients'])\n",
    "            #print(\"prediction: {}\".format(prediction))\n",
    "            #print(\"actual: {}\\n\".format(current['cuisine']))\n",
    "        else:\n",
    "            correct += 1\n",
    "\n",
    "    accuracy = incorrect*100/total\n",
    "    print(\"accuracy = {}\".format(incorrect*100/total))\n",
    "    return accuracy\n"
   ]
  },
  {
   "cell_type": "code",
   "execution_count": 360,
   "metadata": {},
   "outputs": [
    {
     "name": "stdout",
     "output_type": "stream",
     "text": [
      "0\n",
      "accuracy = 74.91638795986623\n",
      "1\n",
      "accuracy = 73.24414715719064\n",
      "2\n",
      "accuracy = 73.24414715719064\n",
      "3\n",
      "accuracy = 72.90969899665552\n",
      "4\n",
      "accuracy = 68.22742474916387\n",
      "5\n",
      "accuracy = 73.91304347826087\n",
      "72.74247491638796\n"
     ]
    }
   ],
   "source": [
    "accuracies = list()\n",
    "len_data = len(array)\n",
    "\n",
    "#6 fold\n",
    "for iteration in range(0,6):\n",
    "    cuisine_probs = dict() #p(c)\n",
    "    ingredient_probs = dict() #p(i)\n",
    "    ingredient_given_cuisine = dict() #p(i|c)\n",
    "    num_ingredient_per_cuisine = dict() # #i/c\n",
    "    \n",
    "    a = int(len_data/6*iteration)\n",
    "    b = int(len_data/6*(iteration+1))\n",
    "\n",
    "    validation = array[a:b]\n",
    "    training = array[b:]+array[:a]\n",
    "\n",
    "    num_ingredients = count_num_ingredients(training)\n",
    "    \n",
    "    for elem in training:\n",
    "        current = json.loads(elem)\n",
    "        #print(\"current: {}\".format(current))\n",
    "        #get cuisine probabilities\n",
    "        c = current['cuisine']\n",
    "        ingredients = current['ingredients']\n",
    "        #print(ingredients)\n",
    "\n",
    "        #get cuisine probabilities (cuisine_probs)\n",
    "        if c not in cuisine_probs:\n",
    "            cuisine_probs[c] = 1/len(training)\n",
    "            num_ingredient_per_cuisine[c] = len(ingredients)\n",
    "        else:\n",
    "            cuisine_probs[c] += 1/len(training)\n",
    "            num_ingredient_per_cuisine[c] += len(ingredients)\n",
    "\n",
    "\n",
    "            #get ingredient probabilities (ingredient_probs)\n",
    "        for i in ingredients:\n",
    "            if i not in ingredient_probs:\n",
    "                ingredient_probs[i] = 1/num_ingredients\n",
    "            else:\n",
    "                ingredient_probs[i] += 1/num_ingredients\n",
    "\n",
    "                #get conditional ingredients given cuisine \n",
    "            if (c,i) not in ingredient_given_cuisine:\n",
    "                ingredient_given_cuisine[(c,i)] = 1\n",
    "            else:\n",
    "                ingredient_given_cuisine[(c,i)] += 1\n",
    "\n",
    "    #calculate conditional probabilities for ingredients given cuisine (ingredient_given_cuisine)\n",
    "    for x in ingredient_given_cuisine:\n",
    "        cuis = x[0]\n",
    "        num_cuis = num_ingredient_per_cuisine[cuis]\n",
    "        ingredient_given_cuisine[x] /= num_cuis\n",
    "        \n",
    "    #model complete! time to validate\n",
    "    print(iteration)\n",
    "    accuracies.append(get_accuracy(validation))\n",
    "\n",
    "    #print(\"ingredient given cuisine (curry, indian): {}\".format(ingredient_given_cuisine[('indian', 'curry leaves')]))\n",
    "    #print(\"ingredient prob curry leaves: {} \".format(ingredient_probs['curry leaves']))\n",
    "    #print(\"cuisine prob indian: {}\".format(cuisine_probs['indian']))\n",
    "\n",
    "average_accuracy = sum(accuracies)/len(accuracies)\n",
    "print(average_accuracy)"
   ]
  },
  {
   "cell_type": "code",
   "execution_count": null,
   "metadata": {
    "collapsed": true
   },
   "outputs": [],
   "source": []
  }
 ],
 "metadata": {
  "kernelspec": {
   "display_name": "Python 3",
   "language": "python",
   "name": "python3"
  },
  "language_info": {
   "codemirror_mode": {
    "name": "ipython",
    "version": 3
   },
   "file_extension": ".py",
   "mimetype": "text/x-python",
   "name": "python",
   "nbconvert_exporter": "python",
   "pygments_lexer": "ipython3",
   "version": "3.6.3"
  }
 },
 "nbformat": 4,
 "nbformat_minor": 2
}
