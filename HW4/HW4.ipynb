{
 "cells": [
  {
   "cell_type": "code",
   "execution_count": 2,
   "metadata": {
    "collapsed": true
   },
   "outputs": [],
   "source": [
    "import random\n",
    "import json\n",
    "import math\n",
    "\n",
    "with open(\"training.json\", encoding='utf-8') as ins:\n",
    "    array = []\n",
    "    for line in ins:\n",
    "        array.append(line)\n",
    "\n",
    "#shuffle array in place\n",
    "random.shuffle(array)"
   ]
  },
  {
   "cell_type": "code",
   "execution_count": 3,
   "metadata": {
    "collapsed": true
   },
   "outputs": [],
   "source": [
    "def count_num_ingredients(dataset):\n",
    "    count = 0\n",
    "    for elem in dataset:\n",
    "        current = json.loads(elem)\n",
    "        count += len(current['ingredients'])\n",
    "    return count\n"
   ]
  },
  {
   "cell_type": "code",
   "execution_count": 4,
   "metadata": {
    "collapsed": true
   },
   "outputs": [],
   "source": [
    "def predict_cuisine(ingredients): \n",
    "    #calculate cuisine given ingredients\n",
    "    import heapq\n",
    "\n",
    "    cuis_preds = []\n",
    "\n",
    "    for c in cuisine_probs:\n",
    "        p_cuisine = math.log(cuisine_probs[c]) #init probability that these ingredients = our cuisine of interest\n",
    "        #p_cuisine = cuisine_probs[c] #init probability that these ingredients = our cuisine of interest\n",
    "        #print(\"cuisine is {}\".format(c))\n",
    "        for ing in ingredients:\n",
    "            #print(\"ingredients is {}\".format(ingredients))\n",
    "            if ingredient_given_cuisine.get((c,ing)) is None:\n",
    "                ##PERHAPS DO LAPLACE SMOOTHING HERE INSTEAD\n",
    "                #https://stats.stackexchange.com/questions/108797/in-naive-bayes-why-bother-with-laplacian-smoothing-when-we-have-unknown-words-i\n",
    "                p_cuisine += math.log(0.00000000000000000001) #a hacky way to do laplace smoothing\n",
    "                #p_cuisine *= 0.00000000000000000000001 #a hacky way to do laplace smoothing\n",
    "                #print(\"{} given {} not there\".format(c, ing))\n",
    "            else:\n",
    "                #print(\"{} given {} there\".format(c, ing))\n",
    "                p_cuisine += math.log(ingredient_given_cuisine.get((c,ing))) #use log numbers don't get too small\n",
    "                #p_cuisine *= ingredient_given_cuisine.get((c,ing)) #use log numbers don't get too small\n",
    "                #log(Prob(Ci)) + log(Prob(T1|Ci)) + log(Prob(T2|Ci)) + ... + log(Prob(Tm|Ci))\n",
    "        heapq.heappush(cuis_preds, (p_cuisine*-1, c))\n",
    "    #print(\"\\n\")\n",
    "    #print(cuis_preds)\n",
    "    return cuis_preds[0][1], cuis_preds\n"
   ]
  },
  {
   "cell_type": "code",
   "execution_count": 5,
   "metadata": {
    "collapsed": true
   },
   "outputs": [],
   "source": [
    "def get_accuracy(validation):\n",
    "\n",
    "    total = len(validation)\n",
    "    incorrect = 0\n",
    "    correct = 0\n",
    "    for item in validation:\n",
    "        current = json.loads(item)\n",
    "        prediction, cuisine_preds = predict_cuisine(current['ingredients'])\n",
    "        if prediction != current['cuisine']:\n",
    "            incorrect += 1\n",
    "            #print(cuisine_preds)\n",
    "            #print(\"prediction: {}\".format(prediction))\n",
    "            #print(\"actual: {}\\n\".format(current['cuisine']))\n",
    "            #print(current['ingredients'])\n",
    "\n",
    "        else:\n",
    "            correct += 1\n",
    "\n",
    "    accuracy = correct*100/total\n",
    "    print(\"correct: {}\".format(correct))\n",
    "    print(\"incorrect: {}\".format(incorrect))\n",
    "    print(\"accuracy = {}\".format(accuracy))\n",
    "    print(\"error: {}\".format(100-accuracy))\n",
    "    return accuracy\n"
   ]
  },
  {
   "cell_type": "code",
   "execution_count": 8,
   "metadata": {},
   "outputs": [
    {
     "name": "stdout",
     "output_type": "stream",
     "text": [
      "0\n",
      "correct: 157\n",
      "incorrect: 142\n",
      "accuracy = 52.508361204013376\n",
      "error: 47.491638795986624\n",
      "1\n",
      "correct: 170\n",
      "incorrect: 129\n",
      "accuracy = 56.8561872909699\n",
      "error: 43.1438127090301\n",
      "2\n",
      "correct: 159\n",
      "incorrect: 140\n",
      "accuracy = 53.17725752508361\n",
      "error: 46.82274247491639\n",
      "3\n",
      "correct: 158\n",
      "incorrect: 141\n",
      "accuracy = 52.84280936454849\n",
      "error: 47.15719063545151\n",
      "4\n",
      "correct: 165\n",
      "incorrect: 134\n",
      "accuracy = 55.18394648829432\n",
      "error: 44.81605351170568\n",
      "5\n",
      "correct: 163\n",
      "incorrect: 136\n",
      "accuracy = 54.51505016722408\n",
      "error: 45.48494983277592\n",
      "45.81939799331104\n"
     ]
    }
   ],
   "source": [
    "accuracies = list()\n",
    "len_data = len(array)\n",
    "\n",
    "#6 fold\n",
    "for iteration in range(0,6):\n",
    "    cuisine_probs = dict() #p(c)\n",
    "    ingredient_probs = dict() #p(i)\n",
    "    ingredient_given_cuisine = dict() #p(i|c)\n",
    "    num_ingredient_per_cuisine = dict() # #i/c\n",
    "    \n",
    "    a = int(len_data/6*iteration)\n",
    "    b = int(len_data/6*(iteration+1))\n",
    "\n",
    "    validation = array[a:b]\n",
    "    training = array[b:]+array[:a]\n",
    "\n",
    "    num_ingredients = count_num_ingredients(training)\n",
    "    \n",
    "    for elem in training:\n",
    "        current = json.loads(elem)\n",
    "        #print(\"current: {}\".format(current))\n",
    "        #get cuisine probabilities\n",
    "        c = current['cuisine']\n",
    "        ingredients = current['ingredients']\n",
    "        #print(ingredients)\n",
    "\n",
    "        #get cuisine probabilities (cuisine_probs)\n",
    "        if c not in cuisine_probs:\n",
    "            cuisine_probs[c] = 1/len(training)\n",
    "            num_ingredient_per_cuisine[c] = len(ingredients)\n",
    "        else:\n",
    "            cuisine_probs[c] += 1/len(training)\n",
    "            num_ingredient_per_cuisine[c] += len(ingredients)\n",
    "\n",
    "\n",
    "            #get ingredient probabilities (ingredient_probs)\n",
    "        for i in ingredients:\n",
    "            if i not in ingredient_probs:\n",
    "                ingredient_probs[i] = 1/num_ingredients\n",
    "            else:\n",
    "                ingredient_probs[i] += 1/num_ingredients\n",
    "\n",
    "                #get conditional ingredients given cuisine \n",
    "            if (c,i) not in ingredient_given_cuisine:\n",
    "                ingredient_given_cuisine[(c,i)] = 1\n",
    "            else:\n",
    "                ingredient_given_cuisine[(c,i)] += 1\n",
    "\n",
    "    #calculate conditional probabilities for ingredients given cuisine (ingredient_given_cuisine)\n",
    "    for x in ingredient_given_cuisine:\n",
    "        cuis = x[0]\n",
    "        num_cuis = num_ingredient_per_cuisine[cuis]\n",
    "        ingredient_given_cuisine[x] /= num_cuis\n",
    "        \n",
    "    #model complete! time to validate\n",
    "    print(iteration)\n",
    "    count = 0\n",
    "    \n",
    "    accuracies.append(get_accuracy(validation))\n",
    "\n",
    "    #print(\"ingredient given cuisine (curry, indian): {}\".format(ingredient_given_cuisine[('indian', 'curry leaves')]))\n",
    "    #print(\"ingredient prob curry leaves: {} \".format(ingredient_probs['curry leaves']))\n",
    "    #print(\"cuisine prob indian: {}\".format(cuisine_probs['indian']))\n",
    "\n",
    "average_error = sum([(100-i) for i in accuracies])/len(accuracies)\n",
    "print(average_error)"
   ]
  },
  {
   "cell_type": "code",
   "execution_count": null,
   "metadata": {
    "collapsed": true
   },
   "outputs": [],
   "source": []
  },
  {
   "cell_type": "code",
   "execution_count": null,
   "metadata": {
    "collapsed": true
   },
   "outputs": [],
   "source": []
  },
  {
   "cell_type": "code",
   "execution_count": null,
   "metadata": {
    "collapsed": true
   },
   "outputs": [],
   "source": []
  },
  {
   "cell_type": "code",
   "execution_count": null,
   "metadata": {
    "collapsed": true
   },
   "outputs": [],
   "source": []
  },
  {
   "cell_type": "code",
   "execution_count": null,
   "metadata": {
    "collapsed": true
   },
   "outputs": [],
   "source": []
  },
  {
   "cell_type": "code",
   "execution_count": null,
   "metadata": {
    "collapsed": true
   },
   "outputs": [],
   "source": []
  },
  {
   "cell_type": "code",
   "execution_count": null,
   "metadata": {
    "collapsed": true
   },
   "outputs": [],
   "source": []
  }
 ],
 "metadata": {
  "kernelspec": {
   "display_name": "Python 3",
   "language": "python",
   "name": "python3"
  },
  "language_info": {
   "codemirror_mode": {
    "name": "ipython",
    "version": 3
   },
   "file_extension": ".py",
   "mimetype": "text/x-python",
   "name": "python",
   "nbconvert_exporter": "python",
   "pygments_lexer": "ipython3",
   "version": "3.6.3"
  }
 },
 "nbformat": 4,
 "nbformat_minor": 2
}
