{
 "cells": [
  {
   "cell_type": "markdown",
   "metadata": {},
   "source": [
    "##### Crystal Gong(cjg5uw), Cynthia Zheng(xz7uy)"
   ]
  },
  {
   "cell_type": "markdown",
   "metadata": {},
   "source": [
    "\n",
    "### Case I: No Wind\n",
    "\n",
    "#### Policy:\n",
    "|0|1|2|3|4|5|6|\n",
    "|-|-|-|-|-|-|\n",
    "|-6.| -5.| -4.| -3.| -3.| -3.| -3.|\n",
    "|-6.| -5.| -4.| -3.| -2.| -2.| -2.|\n",
    "|-6.| -5.| -4.| -3.| -2.| -1.| -1.|\n",
    "|-6.| -5.| -4.| -3.| -2.| -1.|  0.|\n",
    "|-6.| -5.| -4.| -3.| -2.| -1.| -1.|\n",
    "|-6.| -5.| -4.| -3.| -2.| -2.| -2.|\n",
    "|-6.| -5.| -4.| -3.| -3.| -3.| -3.|\n",
    "\n",
    "The following is one of many possible paths when following the policy:\n",
    "\n",
    "$(3, 0)  \\rightarrow, (3, 1) \\rightarrow, (3, 2) \\rightarrow, (3, 3) \\rightarrow, (3, 4) \\rightarrow, (3, 5) \\rightarrow, (3, 6){}\\cdot{},\\ldots$\n",
    "\n",
    "\n",
    "\n",
    "\n",
    "Here is another path following the policy: \n",
    "\n",
    "$(3, 0) \\searrow,  (4, 1) \\rightarrow, (4, 2) \\rightarrow, (4, 3) \\rightarrow, (4, 4) \\rightarrow, (4, 5) \\nearrow, (3, 6) {}\\cdot{}, \\ldots$\n",
    "\n",
    "($\\ldots$ indicates $(3, 6) {}\\cdot{}$ repeating)\n"
   ]
  },
  {
   "cell_type": "markdown",
   "metadata": {},
   "source": [
    "\n",
    "### Case II: Light Wind\n",
    "#### Policy:\n",
    "|0|1|2|3|4|5|6|\n",
    "|-|-|-|-|-|\n",
    "|-6.| -6.| -6.| -6.| -5.| -4.| -3.|\n",
    "|-6.| -5.| -5.| -5.| -4.| -3.| -2.|\n",
    "|-6.| -5.| -4.| -4.| -3.| -2.| -1.|\n",
    "|-6.| -5.| -4.| -3.| -2.| -1.|  0.|\n",
    "|-6.| -5.| -4.| -3.| -2.| -1.| -1.|\n",
    "|-6.| -5.| -4.| -3.| -2.| -1.| -2.|\n",
    "|-6.| -5.| -4.| -3.| -2.| -2.| -2.|\n",
    "\n",
    "Following the policy, starting from state (3, 0):\n",
    "    \n",
    "$(3, 0)  \\rightarrow, (3, 1) \\rightarrow, (3, 2) \\searrow, (4, 3) \\rightarrow, (3, 4) \n",
    "\\searrow, (3, 5) \\searrow, (3, 6){}\\cdot{},\\ldots$\n",
    "\n",
    "Here is another path following the policy: \n",
    "\n",
    "$(3, 0)  \\searrow, (4, 1) \\rightarrow, (4, 2) \\rightarrow, (4, 3) \\rightarrow, (3, 4) \n",
    "\\searrow, (3, 5) \\searrow, (3, 6){}\\cdot{},\\ldots$\n",
    "\n",
    "($\\ldots$ indicates $(3, 6) {}\\cdot{}$ repeating)"
   ]
  },
  {
   "cell_type": "markdown",
   "metadata": {},
   "source": [
    "\n",
    "### Case III: Strong Wind \n",
    "#### Policy:\n",
    "|0|1|2|3|4|5|6|\n",
    "|-|-|-|-|-|-|\n",
    "|-9.| -8.| -7.| -6.| -5.| -4.| -3.|\n",
    "|-8.| -8.| -7.| -6.| -5.| -4.| -2.|\n",
    "|-7.| -7.| -7.| -6.| -5.| -3.| -1.|\n",
    "|-6.| -6.| -6.| -6.| -4.| -2.|  0.|\n",
    "|-6.| -5.| -5.| -5.| -3.| -1.| -1.|\n",
    "|-6.| -5.| -4.| -4.| -2.| -1.| -2.|\n",
    "|-6.| -5.| -4.| -3.| -2.| -1.| -2.|\n",
    "\n",
    "Following the policy, starting from state (3, 0):\n",
    "\n",
    "$(3, 0)  \\searrow, (4, 1) \\searrow, (5, 2) \\searrow, (6, 3) \\searrow, (5, 4) \n",
    "\\searrow, (4, 5) \\searrow, (3, 6){}\\cdot{},\\ldots$\n",
    "\n",
    "This is the only optimal policy for case 3. \n",
    "\n",
    "($\\ldots$ indicates $(3, 6) {}\\cdot{}$ repeating)"
   ]
  }
 ],
 "metadata": {
  "kernelspec": {
   "display_name": "Python 2",
   "language": "python",
   "name": "python2"
  },
  "language_info": {
   "codemirror_mode": {
    "name": "ipython",
    "version": 2
   },
   "file_extension": ".py",
   "mimetype": "text/x-python",
   "name": "python",
   "nbconvert_exporter": "python",
   "pygments_lexer": "ipython2",
   "version": "2.7.13"
  }
 },
 "nbformat": 4,
 "nbformat_minor": 2
}
